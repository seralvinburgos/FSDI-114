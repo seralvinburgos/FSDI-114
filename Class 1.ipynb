{
 "cells": [
  {
   "cell_type": "code",
   "execution_count": 3,
   "id": "8dd563f3",
   "metadata": {},
   "outputs": [
    {
     "name": "stdout",
     "output_type": "stream",
     "text": [
      "h\n",
      "e\n",
      "l\n",
      "l\n",
      "o\n",
      ",\n",
      " \n",
      "w\n",
      "o\n",
      "r\n",
      "l\n",
      "d\n"
     ]
    }
   ],
   "source": [
    "for letter in \"hello, world\":\n",
    "    print(letter)"
   ]
  },
  {
   "cell_type": "markdown",
   "id": "da538019",
   "metadata": {},
   "source": [
    "# Problem 1\n",
    "\n",
    "### Given two strings (string_a and string_b) create a function that checks whether or not they are anagrams of each other, considering the following criteria:\n",
    "\n",
    "Two strings are only anagrams of each other if:\n",
    "1. They are of exactly the same length\n",
    "1. They use exactly the same characters (no more, no less).\n",
    "\n",
    "```\n",
    "Examples:\n",
    "cars and scar\n",
    "heart and earth\n",
    "```"
   ]
  },
  {
   "cell_type": "code",
   "execution_count": 5,
   "id": "234f41db",
   "metadata": {},
   "outputs": [],
   "source": [
    "def get_str_len(mystr):\n",
    "    counter = 0\n",
    "    for i in range(len(mystr)):\n",
    "        counter += 1\n",
    "    return counter\n",
    "\n",
    "def are_anagrams(string_a, string_b):\n",
    "    if len(string_a) != len(string_b):              # Covering the \"length\" case.\n",
    "        return False                                # If our strings are of unequal length, then O(1) - constant\n",
    "    char_times_a = dict()                           # These dictionary will track which characters we've seen\n",
    "    char_times_b = dict()                           # each key is every character, and values are times seen\n",
    "    for i in range(len(string_a)):                  # loop from 0 to the length of string a\n",
    "        if string_a[i] not in char_times_a.keys():  # every time we loop, we check if the character at index \"i\"\n",
    "            char_times_a[string_a[i]] = 1           # within string_a is a key in our dictionary\n",
    "        else:                                       # if it isn't, create a new dict entry and give it a value 1\n",
    "            char_times_a[string_a[i]] += 1          # representing we've seen it once\n",
    "        if string_b[i] not in char_times_b.keys():  # if it is, add 1 to whatever the current value is.\n",
    "            char_times_b[string_b[i]] = 1           # We do the same for string_b\n",
    "        else:\n",
    "            char_times_b[string_b[i]] += 1\n",
    "    return char_times_a == char_times_b             # return the comparison between char_tiems_a and char_times_b\n",
    "                                                    # this will return True if they are equal, False otherwise."
   ]
  },
  {
   "cell_type": "code",
   "execution_count": 8,
   "id": "16948047",
   "metadata": {},
   "outputs": [
    {
     "data": {
      "text/plain": [
       "True"
      ]
     },
     "execution_count": 8,
     "metadata": {},
     "output_type": "execute_result"
    }
   ],
   "source": [
    "are_anagrams(\"cars\", \"scar\")"
   ]
  },
  {
   "cell_type": "code",
   "execution_count": 9,
   "id": "c69ff8af",
   "metadata": {},
   "outputs": [],
   "source": [
    "# So here's a twist\n",
    "\n",
    "# Tom Marvolo Riddle\n",
    "# I am Lord Voldemort\n"
   ]
  },
  {
   "cell_type": "markdown",
   "id": "e1767407",
   "metadata": {},
   "source": [
    "# Homework:\n",
    "\n",
    "### The function above(are_anagrams) must be edited such that:\n",
    "> are_anagrams(\"I am Lord Voldemort\", \"Tom Marvolo Riddle\") returns True"
   ]
  },
  {
   "cell_type": "code",
   "execution_count": 1,
   "id": "4b70f56d",
   "metadata": {},
   "outputs": [],
   "source": [
    "def get_str_len(mystr):\n",
    "    counter = 0\n",
    "    for i in range(len(mystr)):\n",
    "        counter += 1\n",
    "    return counter\n",
    "\n",
    "def are_anagrams(string_a, string_b):\n",
    "    string_a = string_a.replace(\" \", \"\").lower()\n",
    "    string_b = string_b.replace(\" \", \"\").lower()\n",
    "    if len(string_a) != len(string_b):\n",
    "        return False\n",
    "    char_times_a = dict()\n",
    "    char_times_b = dict()\n",
    "    for i in range(len(string_a)):\n",
    "        if string_a[i] not in char_times_a.keys():\n",
    "            char_times_a[string_a[i]] = 1\n",
    "        else:\n",
    "            char_times_a[string_a[i]] += 1\n",
    "        if string_b[i] not in char_times_b.keys():\n",
    "            char_times_b[string_b[i]] = 1\n",
    "        else:\n",
    "            char_times_b[string_b[i]] += 1\n",
    "    return char_times_a == char_times_b"
   ]
  },
  {
   "cell_type": "code",
   "execution_count": 2,
   "id": "21f89f17",
   "metadata": {},
   "outputs": [
    {
     "data": {
      "text/plain": [
       "True"
      ]
     },
     "execution_count": 2,
     "metadata": {},
     "output_type": "execute_result"
    }
   ],
   "source": [
    "are_anagrams(\"Tom Marvolo Riddle\", \"I am Lord Voldemort\")"
   ]
  },
  {
   "cell_type": "code",
   "execution_count": null,
   "id": "e581112b",
   "metadata": {},
   "outputs": [],
   "source": []
  }
 ],
 "metadata": {
  "kernelspec": {
   "display_name": "Python 3 (ipykernel)",
   "language": "python",
   "name": "python3"
  },
  "language_info": {
   "codemirror_mode": {
    "name": "ipython",
    "version": 3
   },
   "file_extension": ".py",
   "mimetype": "text/x-python",
   "name": "python",
   "nbconvert_exporter": "python",
   "pygments_lexer": "ipython3",
   "version": "3.10.7"
  },
  "vscode": {
   "interpreter": {
    "hash": "7b423eba957ed6d7e9c0a28253d03ce2fab8228431d39c0d06bbf5696caf2065"
   }
  }
 },
 "nbformat": 4,
 "nbformat_minor": 5
}
